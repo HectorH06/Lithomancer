{
 "cells": [
  {
   "cell_type": "code",
   "execution_count": 37,
   "id": "e39aa439",
   "metadata": {},
   "outputs": [],
   "source": [
    "import pandas as pd\n",
    "import plotly.graph_objects as go\n",
    "import ipywidgets as widgets\n",
    "from IPython.display import display"
   ]
  },
  {
   "cell_type": "code",
   "execution_count": 38,
   "id": "b40cd073",
   "metadata": {},
   "outputs": [],
   "source": [
    "df = pd.read_excel('groudon.xlsx')"
   ]
  },
  {
   "cell_type": "code",
   "execution_count": 39,
   "id": "c85068e1",
   "metadata": {},
   "outputs": [],
   "source": [
    "# UNAM tiene algunos valores etiquetados como \"no calculable\" en la col de magnitud\n",
    "df['Magnitud'] = pd.to_numeric(df['Magnitud'], errors='coerce')  # Convierte a NaN cualquier valor no numérico\n",
    "df = df.dropna(subset=['Magnitud'])  # Elimina filas con valores NaN en 'Magnitud'\n",
    "\n",
    "# Extraer año de la fecha\n",
    "df['Fecha'] = pd.to_datetime(df['Fecha'], dayfirst=True, errors='coerce')\n",
    "df['Año'] = df['Fecha'].dt.year\n",
    "\n",
    "# Limpiar nulos importantes\n",
    "df = df.dropna(subset=['Latitud', 'Longitud', 'Magnitud', 'Profundidad', 'Año'])"
   ]
  },
  {
   "cell_type": "code",
   "execution_count": 66,
   "id": "ec965c68",
   "metadata": {},
   "outputs": [],
   "source": [
    "def marker_shapes(year):\n",
    "    if year < 1960:\n",
    "        return 'star'\n",
    "    elif 1961 <= year <= 1980:\n",
    "        return 'square'\n",
    "    elif 1981 <= year <= 2000:\n",
    "        return 'triangle-down'\n",
    "    elif 2001 <= year <= 2020:\n",
    "        return 'triangle-up'\n",
    "    else:\n",
    "        return 'circle'\n",
    "\n",
    "df['Forma'] = df['Año'].apply(marker_shapes)\n",
    "df['Forma'] = 'circle'"
   ]
  },
  {
   "cell_type": "code",
   "execution_count": null,
   "id": "a986e0a9",
   "metadata": {},
   "outputs": [],
   "source": [
    "# Sliders\n",
    "year_slider = widgets.IntRangeSlider(\n",
    "    value=[1990, df['Año'].max()],\n",
    "    min=df['Año'].min(),\n",
    "    max=df['Año'].max(),\n",
    "    step=1,\n",
    "    description='Año:',\n",
    "    continuous_update=False\n",
    ")\n",
    "\n",
    "mag_slider = widgets.FloatRangeSlider(\n",
    "    value=[5, df['Magnitud'].max()],\n",
    "    min=df['Magnitud'].min(),\n",
    "    max=df['Magnitud'].max(),\n",
    "    step=0.1,\n",
    "    description='Magnitud:',\n",
    "    continuous_update=False\n",
    ")\n",
    "\n",
    "depth_slider = widgets.FloatRangeSlider(\n",
    "    value=[df['Profundidad'].min(), df['Profundidad'].max()],\n",
    "    min=df['Profundidad'].min(),\n",
    "    max=df['Profundidad'].max(),\n",
    "    step=1,\n",
    "    description='Profundidad:',\n",
    "    continuous_update=False\n",
    ")"
   ]
  },
  {
   "cell_type": "code",
   "execution_count": 68,
   "id": "ea95779d",
   "metadata": {},
   "outputs": [],
   "source": [
    "def mapa(rango_ano, rango_mag, rango_prof):\n",
    "    df_filtrado = df[\n",
    "        (df['Año'] >= rango_ano[0]) & (df['Año'] <= rango_ano[1]) &\n",
    "        (df['Magnitud'] >= rango_mag[0]) & (df['Magnitud'] <= rango_mag[1]) &\n",
    "        (df['Profundidad'] >= rango_prof[0]) & (df['Profundidad'] <= rango_prof[1])\n",
    "    ]\n",
    "    \n",
    "    fig = go.Figure()\n",
    "\n",
    "    # Añadir trazos para cada tipo de marcador\n",
    "    for forma in df_filtrado['Forma'].unique():\n",
    "        df_forma = df_filtrado[df_filtrado['Forma'] == forma]\n",
    "        fig.add_trace(go.Scattermapbox(\n",
    "            lat=df_forma['Latitud'],\n",
    "            lon=df_forma['Longitud'],\n",
    "            mode='markers',\n",
    "            marker=dict(\n",
    "                size=df_forma['Magnitud'] * 5,  # Ajustar tamaño según la magnitud\n",
    "                color=df_forma['Magnitud'],\n",
    "                colorscale='inferno',\n",
    "                symbol=forma,  # Forma según el año\n",
    "                showscale=True\n",
    "            ),\n",
    "            hoverinfo='text',\n",
    "            hovertext=df_forma.apply(lambda row: f\"{row['Referencia de localizacion']}<br>{row['Año']}\", axis=1),\n",
    "            name=f'Eventos {forma}'\n",
    "        ))\n",
    "\n",
    "    # Configurar el centro y el zoom para enfocar solo en México\n",
    "    fig.update_layout(\n",
    "        mapbox_style=\"open-street-map\",\n",
    "        mapbox_center={\"lat\": 23.6345, \"lon\": -102.5528},  # Centro de México\n",
    "        mapbox_zoom=4,  # Nivel de zoom, puedes ajustar este valor\n",
    "        height=600,\n",
    "        title='Groudon',\n",
    "    )\n",
    "\n",
    "    fig.show()"
   ]
  },
  {
   "cell_type": "code",
   "execution_count": 69,
   "id": "57917dee",
   "metadata": {},
   "outputs": [
    {
     "data": {
      "application/vnd.jupyter.widget-view+json": {
       "model_id": "b6af9e3652ba4612bfa303d28fbb1fc2",
       "version_major": 2,
       "version_minor": 0
      },
      "text/plain": [
       "VBox(children=(IntRangeSlider(value=(1990, 2025), continuous_update=False, description='Año:', max=2025, min=1…"
      ]
     },
     "metadata": {},
     "output_type": "display_data"
    },
    {
     "data": {
      "application/vnd.jupyter.widget-view+json": {
       "model_id": "c9ca50304a1b47ffba44a33c717938de",
       "version_major": 2,
       "version_minor": 0
      },
      "text/plain": [
       "Output()"
      ]
     },
     "metadata": {},
     "output_type": "display_data"
    }
   ],
   "source": [
    "# Interfaz\n",
    "ui = widgets.VBox([year_slider, mag_slider, depth_slider])\n",
    "out = widgets.interactive_output(mapa, {\n",
    "    'rango_ano': year_slider,\n",
    "    'rango_mag': mag_slider,\n",
    "    'rango_prof': depth_slider\n",
    "})\n",
    "\n",
    "display(ui, out)"
   ]
  }
 ],
 "metadata": {
  "kernelspec": {
   "display_name": "base",
   "language": "python",
   "name": "python3"
  },
  "language_info": {
   "codemirror_mode": {
    "name": "ipython",
    "version": 3
   },
   "file_extension": ".py",
   "mimetype": "text/x-python",
   "name": "python",
   "nbconvert_exporter": "python",
   "pygments_lexer": "ipython3",
   "version": "3.12.4"
  }
 },
 "nbformat": 4,
 "nbformat_minor": 5
}

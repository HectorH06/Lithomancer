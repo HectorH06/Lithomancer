{
 "cells": [
  {
   "cell_type": "code",
   "execution_count": 19,
   "id": "e39aa439",
   "metadata": {},
   "outputs": [],
   "source": [
    "import pandas as pd\n",
    "import plotly.graph_objects as go\n",
    "import ipywidgets as widgets\n",
    "from IPython.display import display"
   ]
  },
  {
   "cell_type": "code",
   "execution_count": 20,
   "id": "b40cd073",
   "metadata": {},
   "outputs": [],
   "source": [
    "# Cargar el archivo Excel\n",
    "df = pd.read_excel('groudon.xlsx')"
   ]
  },
  {
   "cell_type": "code",
   "execution_count": 21,
   "id": "c85068e1",
   "metadata": {},
   "outputs": [],
   "source": [
    "# Filtrar los registros donde 'Magnitud' no sea \"no calculable\" y convertir la columna 'Magnitud' a numérico\n",
    "df['Magnitud'] = pd.to_numeric(df['Magnitud'], errors='coerce')  # Convierte a NaN cualquier valor no numérico\n",
    "df = df.dropna(subset=['Magnitud'])  # Elimina filas con valores NaN en 'Magnitud'\n",
    "\n",
    "# Convertir fecha a datetime y extraer año\n",
    "df['Fecha'] = pd.to_datetime(df['Fecha'], dayfirst=True, errors='coerce')\n",
    "df['Año'] = df['Fecha'].dt.year\n",
    "\n",
    "# Limpiar nulos importantes\n",
    "df = df.dropna(subset=['Latitud', 'Longitud', 'Magnitud', 'Profundidad', 'Año'])\n",
    "\n"
   ]
  },
  {
   "cell_type": "code",
   "execution_count": 22,
   "id": "0a01009b",
   "metadata": {},
   "outputs": [],
   "source": [
    "# Asignar el tipo de marcador según el rango de años\n",
    "def asignar_forma_anno(year):\n",
    "    if year < 1960:\n",
    "        return 'star'\n",
    "    elif 1961 <= year <= 1980:\n",
    "        return 'square'\n",
    "    elif 1981 <= year <= 2000:\n",
    "        return 'triangle-down'\n",
    "    elif 2001 <= year <= 2020:\n",
    "        return 'triangle-up'\n",
    "    else:\n",
    "        return 'circle'"
   ]
  },
  {
   "cell_type": "code",
   "execution_count": 23,
   "id": "a986e0a9",
   "metadata": {},
   "outputs": [],
   "source": [
    "df['Forma'] = df['Año'].apply(asignar_forma_anno)\n",
    "\n",
    "# Crear sliders\n",
    "year_slider = widgets.IntRangeSlider(\n",
    "    value=[df['Año'].min(), df['Año'].max()],\n",
    "    min=df['Año'].min(),\n",
    "    max=df['Año'].max(),\n",
    "    step=1,\n",
    "    description='Año:',\n",
    "    continuous_update=False\n",
    ")\n",
    "\n",
    "mag_slider = widgets.FloatRangeSlider(\n",
    "    value=[df['Magnitud'].min(), df['Magnitud'].max()],\n",
    "    min=df['Magnitud'].min(),\n",
    "    max=df['Magnitud'].max(),\n",
    "    step=0.1,\n",
    "    description='Magnitud:',\n",
    "    continuous_update=False\n",
    ")\n",
    "\n",
    "depth_slider = widgets.FloatRangeSlider(\n",
    "    value=[df['Profundidad'].min(), df['Profundidad'].max()],\n",
    "    min=df['Profundidad'].min(),\n",
    "    max=df['Profundidad'].max(),\n",
    "    step=1,\n",
    "    description='Profundidad:',\n",
    "    continuous_update=False\n",
    ")\n",
    "\n",
    "\n"
   ]
  },
  {
   "cell_type": "code",
   "execution_count": 24,
   "id": "ea95779d",
   "metadata": {},
   "outputs": [],
   "source": [
    "# Función para actualizar el mapa\n",
    "def actualizar_mapa(rango_ano, rango_mag, rango_prof):\n",
    "    df_filtrado = df[\n",
    "        (df['Año'] >= rango_ano[0]) & (df['Año'] <= rango_ano[1]) &\n",
    "        (df['Magnitud'] >= rango_mag[0]) & (df['Magnitud'] <= rango_mag[1]) &\n",
    "        (df['Profundidad'] >= rango_prof[0]) & (df['Profundidad'] <= rango_prof[1])\n",
    "    ]\n",
    "    \n",
    "    fig = go.Figure()\n",
    "\n",
    "    # Añadir trazos para cada tipo de marcador\n",
    "    for forma in df_filtrado['Forma'].unique():\n",
    "        df_forma = df_filtrado[df_filtrado['Forma'] == forma]\n",
    "        fig.add_trace(go.Scattermapbox(\n",
    "            lat=df_forma['Latitud'],\n",
    "            lon=df_forma['Longitud'],\n",
    "            mode='markers',\n",
    "            marker=dict(\n",
    "                size=df_forma['Magnitud'] * 5,  # Ajustar tamaño según la magnitud\n",
    "                color=df_forma['Magnitud'],\n",
    "                colorscale='inferno',\n",
    "                symbol=forma,  # Forma según el año\n",
    "                showscale=True\n",
    "            ),\n",
    "            hoverinfo='text',\n",
    "            hovertext=df_forma['Referencia de localizacion'],\n",
    "            name=f'Eventos {forma}'\n",
    "        ))\n",
    "    \n",
    "    fig.update_layout(\n",
    "        mapbox_style=\"open-street-map\",\n",
    "        mapbox_zoom=3,\n",
    "        height=600,\n",
    "        title='Eventos sísmicos filtrados',\n",
    "    )\n",
    "\n",
    "    fig.show()"
   ]
  },
  {
   "cell_type": "code",
   "execution_count": null,
   "id": "57917dee",
   "metadata": {},
   "outputs": [],
   "source": [
    "# Interfaz\n",
    "ui = widgets.VBox([year_slider, mag_slider, depth_slider])\n",
    "out = widgets.interactive_output(actualizar_mapa, {\n",
    "    'rango_ano': year_slider,\n",
    "    'rango_mag': mag_slider,\n",
    "    'rango_prof': depth_slider\n",
    "})\n",
    "\n",
    "display(ui, out)"
   ]
  }
 ],
 "metadata": {
  "kernelspec": {
   "display_name": "base",
   "language": "python",
   "name": "python3"
  },
  "language_info": {
   "codemirror_mode": {
    "name": "ipython",
    "version": 3
   },
   "file_extension": ".py",
   "mimetype": "text/x-python",
   "name": "python",
   "nbconvert_exporter": "python",
   "pygments_lexer": "ipython3",
   "version": "3.12.4"
  }
 },
 "nbformat": 4,
 "nbformat_minor": 5
}
